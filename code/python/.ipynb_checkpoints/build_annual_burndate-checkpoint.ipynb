{
 "cells": [
  {
   "cell_type": "code",
   "execution_count": 5,
   "metadata": {
    "scrolled": true
   },
   "outputs": [
    {
     "name": "stdout",
     "output_type": "stream",
     "text": [
      "['2000', '2001', '2002', '2003', '2004', '2005', '2006', '2007', '2008', '2009', '2010', '2011', '2012', '2013', '2014', '2015', '2016', '2017', '2018', '2019', '2020', '2021']\n",
      "Number of Extracted Rasters: 12\n",
      "Mosaicing for burn year: 2001\n"
     ]
    }
   ],
   "source": [
    "import arcpy\n",
    "from arcpy.sa import *\n",
    "import os, glob\n",
    "\n",
    "arcpy.env.overwriteOutput = True\n",
    "\n",
    "maindir = \"C:/Users/Maxwell/OneDrive/mcook/earth-lab/fastest-fires/data/burndate/\"\n",
    "\n",
    "dirs = os.listdir(maindir)\n",
    "print(dirs)\n",
    "\n",
    "for d in dirs:\n",
    "    path = os.path.join(maindir, d)\n",
    "    out_file = \"annual_burndate_y\"+str(d)+\".tif\"\n",
    "    if not os.path.exists(os.path.join(path, out_file)):\n",
    "        rasters = glob.glob(path+\"/*.tif\", recursive=True)\n",
    "        out_rasters = []\n",
    "        for r in rasters:\n",
    "            OutRas = SetNull(r, r, \"Value <= 0\")\n",
    "            out_rasters.append(OutRas)\n",
    "        print(\"Number of Extracted Rasters: \"+str(len(out_rasters)))\n",
    "        print(\"Mosaicing for burn year: \"+str(d))\n",
    "        mosaic = arcpy.management.MosaicToNewRaster(\n",
    "            out_rasters, path, out_file, \n",
    "            \"\", \"16_BIT_UNSIGNED\", \"\", 1, \"Last\", \"\")\n",
    "    else:\n",
    "        pass\n"
   ]
  }
 ],
 "metadata": {
  "kernelspec": {
   "display_name": "ArcGISPro",
   "language": "Python",
   "name": "python3"
  },
  "language_info": {
   "file_extension": ".py",
   "name": "python",
   "version": "3"
  }
 },
 "nbformat": 4,
 "nbformat_minor": 2
}
